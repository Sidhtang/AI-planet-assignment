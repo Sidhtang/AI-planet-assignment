{
  "nbformat": 4,
  "nbformat_minor": 0,
  "metadata": {
    "colab": {
      "provenance": [],
      "authorship_tag": "ABX9TyOpX1st5nign08PXsaZV1FB",
      "include_colab_link": true
    },
    "kernelspec": {
      "name": "python3",
      "display_name": "Python 3"
    },
    "language_info": {
      "name": "python"
    }
  },
  "cells": [
    {
      "cell_type": "markdown",
      "metadata": {
        "id": "view-in-github",
        "colab_type": "text"
      },
      "source": [
        "<a href=\"https://colab.research.google.com/github/Sidhtang/AI-planet-assignment/blob/main/assignment_of_deep_logic.ipynb\" target=\"_parent\"><img src=\"https://colab.research.google.com/assets/colab-badge.svg\" alt=\"Open In Colab\"/></a>"
      ]
    },
    {
      "cell_type": "code",
      "execution_count": 11,
      "metadata": {
        "colab": {
          "base_uri": "https://localhost:8080/"
        },
        "id": "I1LfePxcYdAv",
        "outputId": "0646e345-d2e3-41d1-91cb-2307c2346a47"
      },
      "outputs": [
        {
          "output_type": "stream",
          "name": "stdout",
          "text": [
            "Requirement already satisfied: PyPDF2 in /usr/local/lib/python3.10/dist-packages (3.0.1)\n"
          ]
        }
      ],
      "source": [
        "!pip install --upgrade PyPDF2 # Update PyPDF2 to the latest version\n",
        "import PyPDF2\n",
        "\n",
        "\n",
        "def extract_text_from_pdf(file_path):\n",
        "    pdf_file_obj = open(file_path, 'rb')\n",
        "    # Use PdfReader instead of PdfFileReader\n",
        "    pdf_reader = PyPDF2.PdfReader(pdf_file_obj)\n",
        "    num_pages = pdf_reader.numPages\n",
        "    text = ''\n",
        "    for page in range(num_pages):\n",
        "        page_obj = pdf_reader.getPage(page)\n",
        "        text += page_obj.extractText()\n",
        "    pdf_file_obj.close()\n",
        "    return text\n"
      ]
    },
    {
      "cell_type": "code",
      "source": [
        "import re\n",
        "import nltk\n",
        "from nltk.tokenize import word_tokenize\n",
        "\n",
        "def extract_features(text):\n",
        "    keywords = re.findall(r'\\b\\w+\\b', text)\n",
        "    invoice_number = re.search(r'Invoice Number: (\\d+)', text)\n",
        "    date = re.search(r'Date: (\\d{2}/\\d{2}/\\d{4})', text)\n",
        "    amount = re.search(r'Amount: (\\d{1,3}(?:,\\d{3})*(?:\\.\\d+)?)', text)\n",
        "    features = {\n",
        "        'keywords': keywords,\n",
        "        'invoice_number': invoice_number.group(1) if invoice_number else None,\n",
        "        'date': date.group(1) if date else None,\n",
        "        'amount': amount.group(1) if amount else None\n",
        "    }\n",
        "    return features"
      ],
      "metadata": {
        "id": "OJDRKSgIamUY"
      },
      "execution_count": 5,
      "outputs": []
    },
    {
      "cell_type": "code",
      "source": [
        "import numpy as np\n",
        "\n",
        "def calculate_similarity(features1, features2):\n",
        "    vector1 = np.array([features1['keywords'], features1['invoice_number'], features1['date'], features1['amount']])\n",
        "    vector2 = np.array([features2['keywords'], features2['invoice_number'], features2['date'], features2['amount']])\n",
        "    dot_product = np.dot(vector1, vector2)\n",
        "    magnitude1 = np.linalg.norm(vector1)\n",
        "    magnitude2 = np.linalg.norm(vector2)\n",
        "    similarity = dot_product / (magnitude1 * magnitude2)\n",
        "    return similarity"
      ],
      "metadata": {
        "id": "S44bTAzTamXX"
      },
      "execution_count": 6,
      "outputs": []
    },
    {
      "cell_type": "code",
      "source": [
        "database = []\n",
        "\n",
        "def add_invoice_to_database(file_path):\n",
        "    text = extract_text_from_pdf(file_path)\n",
        "    features = extract_features(text)\n",
        "    database.append(features)\n",
        "\n",
        "def find_most_similar_invoice(file_path):\n",
        "    text = extract_text_from_pdf(file_path)\n",
        "    features = extract_features(text)\n",
        "    max_similarity = 0\n",
        "    most_similar_invoice = None\n",
        "    for invoice in database:\n",
        "        similarity = calculate_similarity(features, invoice)\n",
        "        if similarity > max_similarity:\n",
        "            max_similarity = similarity\n",
        "            most_similar_invoice = invoice\n",
        "    return most_similar_invoice, max_similarity"
      ],
      "metadata": {
        "id": "9a1FaXZCamad"
      },
      "execution_count": 9,
      "outputs": []
    },
    {
      "cell_type": "code",
      "source": [
        "!pip install pdfplumber\n",
        "import pdfplumber\n",
        "import re\n",
        "import nltk\n",
        "from nltk.tokenize import word_tokenize\n",
        "import numpy as np\n",
        "\n",
        "def extract_text_from_pdf(file_path):\n",
        "    text = ''\n",
        "    with pdfplumber.open(file_path) as pdf:\n",
        "        for page in pdf.pages:\n",
        "            text += page.extract_text()\n",
        "    return text\n",
        "\n",
        "def extract_features(text):\n",
        "    keywords = re.findall(r'\\b\\w+\\b', text)\n",
        "    invoice_number = re.search(r'Invoice Number: (\\d+)', text)\n",
        "    date = re.search(r'Date: (\\d{2}/\\d{2}/\\d{4})', text)\n",
        "    amount = re.search(r'Amount: (\\d{1,3}(?:,\\d{3})*(?:\\.\\d+)?)', text)\n",
        "    features = {\n",
        "        'keywords': keywords,\n",
        "        'invoice_number': invoice_number.group(1) if invoice_number else None,\n",
        "        'date': date.group(1) if date else None,\n",
        "        'amount': amount.group(1) if amount else None\n",
        "    }\n",
        "    return features\n",
        "\n",
        "\n",
        "def calculate_similarity(features1, features2):\n",
        "    # Convert None values to 0 for numerical operations\n",
        "    vector1 = np.array([len(features1['keywords']),\n",
        "                        features1['invoice_number'] if features1['invoice_number'] is not None else 0,\n",
        "                        features1['date'] if features1['date'] is not None else 0,\n",
        "                        features1['amount'] if features1['amount'] is not None else 0])\n",
        "    vector2 = np.array([len(features2['keywords']),\n",
        "                        features2['invoice_number'] if features2['invoice_number'] is not None else 0,\n",
        "                        features2['date'] if features2['date'] is not None else 0,\n",
        "                        features2['amount'] if features2['amount'] is not None else 0])\n",
        "    dot_product = np.dot(vector1, vector2)\n",
        "    magnitude1 = np.linalg.norm(vector1)\n",
        "    magnitude2 = np.linalg.norm(vector2)\n",
        "    # Handle potential division by zero\n",
        "    if magnitude1 == 0 or magnitude2 == 0:\n",
        "        return 0  # or another appropriate value indicating no similarity\n",
        "    similarity = dot_product / (magnitude1 * magnitude2)\n",
        "    return similarity\n",
        "database = []\n",
        "\n",
        "def add_invoice_to_database(file_path):\n",
        "    text = extract_text_from_pdf(file_path)\n",
        "    features = extract_features(text)\n",
        "    database.append((file_path, features))\n",
        "\n",
        "def find_most_similar_invoice(file_path):\n",
        "    text = extract_text_from_pdf(file_path)\n",
        "    features = extract_features(text)\n",
        "    max_similarity = 0\n",
        "    most_similar_invoice = None\n",
        "    for invoice in database:\n",
        "        similarity = calculate_similarity(features, invoice[1])\n",
        "        if similarity > max_similarity and invoice[0] != file_path:\n",
        "            max_similarity = similarity\n",
        "            most_similar_invoice = invoice\n",
        "    return most_similar_invoice[0], max_similarity\n",
        "\n",
        "def main():\n",
        "    # Add invoices to database\n",
        "    add_invoice_to_database('/content/invoice_102856.pdf')\n",
        "    add_invoice_to_database('/content/invoice_77073.pdf')\n",
        "    add_invoice_to_database('/content/invoice_102857.pdf')\n",
        "\n",
        "    # Find most similar invoice\n",
        "    file_path = '/content/invoice_102856.pdf'\n",
        "    most_similar_invoice, similarity = find_most_similar_invoice(file_path)\n",
        "    print('Most similar invoice:', most_similar_invoice)\n",
        "    print('Similarity score:', similarity)\n",
        "\n",
        "if __name__ == '__main__':\n",
        "    main()\n",
        "\n"
      ],
      "metadata": {
        "colab": {
          "base_uri": "https://localhost:8080/"
        },
        "id": "Vmd3Mb1RYd3m",
        "outputId": "c54f96f8-84fc-4f0b-c9e7-93acc2e3b0fc"
      },
      "execution_count": 17,
      "outputs": [
        {
          "output_type": "stream",
          "name": "stdout",
          "text": [
            "Requirement already satisfied: pdfplumber in /usr/local/lib/python3.10/dist-packages (0.11.2)\n",
            "Requirement already satisfied: pdfminer.six==20231228 in /usr/local/lib/python3.10/dist-packages (from pdfplumber) (20231228)\n",
            "Requirement already satisfied: Pillow>=9.1 in /usr/local/lib/python3.10/dist-packages (from pdfplumber) (9.4.0)\n",
            "Requirement already satisfied: pypdfium2>=4.18.0 in /usr/local/lib/python3.10/dist-packages (from pdfplumber) (4.30.0)\n",
            "Requirement already satisfied: charset-normalizer>=2.0.0 in /usr/local/lib/python3.10/dist-packages (from pdfminer.six==20231228->pdfplumber) (3.3.2)\n",
            "Requirement already satisfied: cryptography>=36.0.0 in /usr/local/lib/python3.10/dist-packages (from pdfminer.six==20231228->pdfplumber) (42.0.8)\n",
            "Requirement already satisfied: cffi>=1.12 in /usr/local/lib/python3.10/dist-packages (from cryptography>=36.0.0->pdfminer.six==20231228->pdfplumber) (1.16.0)\n",
            "Requirement already satisfied: pycparser in /usr/local/lib/python3.10/dist-packages (from cffi>=1.12->cryptography>=36.0.0->pdfminer.six==20231228->pdfplumber) (2.22)\n",
            "Most similar invoice: /content/invoice_77073.pdf\n",
            "Similarity score: 1.0\n"
          ]
        }
      ]
    },
    {
      "cell_type": "code",
      "source": [],
      "metadata": {
        "id": "-5LJeiYdYd6O"
      },
      "execution_count": null,
      "outputs": []
    }
  ]
}